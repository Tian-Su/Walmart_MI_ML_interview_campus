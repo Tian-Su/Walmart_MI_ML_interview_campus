{
 "cells": [
  {
   "cell_type": "markdown",
   "metadata": {},
   "source": [
    "# Covid_19 Analysis"
   ]
  },
  {
   "cell_type": "markdown",
   "metadata": {},
   "source": [
    "## Abstract"
   ]
  },
  {
   "cell_type": "markdown",
   "metadata": {},
   "source": [
    "First, we load the data and have a rough look at it. \\\n",
    "I found that there are 111 unique countries/regions and 183 unique province/state are affected by the disease. There are 80906 confirmed cases in Mainland China and 30698 confirmed cases outside China. \n",
    "\n",
    "\n",
    "Next, I do an analysis in the cases in Mainland China. I load the data from \"time-series-confirmed\". Summarize the confirmed case in China.\\\n",
    "I write two model that may be used to match the trend. One is exponential model and one is sigmoid model. In the trend of China case, I found that the head of the trend is completly exponential, but the tail of the trend is slightly changing to sigmoid model. So I put a exponential line on the data plot and do a prediction. But I guess the trend may be turning to sigmoid in the future. If more data and more time is given, a complicated model is necessary.\n",
    "\n",
    "\n",
    "Then, I do an analysis in the cases in all provinces/regions in Mainland China. Hubei absolutely has the most confirmed cases. And I find that the death/rocovery rate is roughly at 1:7.\n",
    "\n",
    "\n",
    "Last, I do and anlysis in the cases outside Mainland China. This time the exponential model fit the data very well. I do a prediction."
   ]
  },
  {
   "cell_type": "code",
   "execution_count": 1,
   "metadata": {},
   "outputs": [],
   "source": [
    "import numpy as np\n",
    "import pandas as pd\n",
    "import seaborn as sns\n",
    "import matplotlib.pyplot as plt"
   ]
  },
  {
   "cell_type": "code",
   "execution_count": 2,
   "metadata": {},
   "outputs": [
    {
     "data": {
      "text/html": [
       "<div>\n",
       "<style scoped>\n",
       "    .dataframe tbody tr th:only-of-type {\n",
       "        vertical-align: middle;\n",
       "    }\n",
       "\n",
       "    .dataframe tbody tr th {\n",
       "        vertical-align: top;\n",
       "    }\n",
       "\n",
       "    .dataframe thead th {\n",
       "        text-align: right;\n",
       "    }\n",
       "</style>\n",
       "<table border=\"1\" class=\"dataframe\">\n",
       "  <thead>\n",
       "    <tr style=\"text-align: right;\">\n",
       "      <th></th>\n",
       "      <th>SNo</th>\n",
       "      <th>ObservationDate</th>\n",
       "      <th>Province/State</th>\n",
       "      <th>Country/Region</th>\n",
       "      <th>Last Update</th>\n",
       "      <th>Confirmed</th>\n",
       "      <th>Deaths</th>\n",
       "      <th>Recovered</th>\n",
       "    </tr>\n",
       "  </thead>\n",
       "  <tbody>\n",
       "    <tr>\n",
       "      <td>0</td>\n",
       "      <td>1</td>\n",
       "      <td>01/22/2020</td>\n",
       "      <td>Anhui</td>\n",
       "      <td>Mainland China</td>\n",
       "      <td>1/22/2020 17:00</td>\n",
       "      <td>1.0</td>\n",
       "      <td>0.0</td>\n",
       "      <td>0.0</td>\n",
       "    </tr>\n",
       "    <tr>\n",
       "      <td>1</td>\n",
       "      <td>2</td>\n",
       "      <td>01/22/2020</td>\n",
       "      <td>Beijing</td>\n",
       "      <td>Mainland China</td>\n",
       "      <td>1/22/2020 17:00</td>\n",
       "      <td>14.0</td>\n",
       "      <td>0.0</td>\n",
       "      <td>0.0</td>\n",
       "    </tr>\n",
       "    <tr>\n",
       "      <td>2</td>\n",
       "      <td>3</td>\n",
       "      <td>01/22/2020</td>\n",
       "      <td>Chongqing</td>\n",
       "      <td>Mainland China</td>\n",
       "      <td>1/22/2020 17:00</td>\n",
       "      <td>6.0</td>\n",
       "      <td>0.0</td>\n",
       "      <td>0.0</td>\n",
       "    </tr>\n",
       "    <tr>\n",
       "      <td>3</td>\n",
       "      <td>4</td>\n",
       "      <td>01/22/2020</td>\n",
       "      <td>Fujian</td>\n",
       "      <td>Mainland China</td>\n",
       "      <td>1/22/2020 17:00</td>\n",
       "      <td>1.0</td>\n",
       "      <td>0.0</td>\n",
       "      <td>0.0</td>\n",
       "    </tr>\n",
       "    <tr>\n",
       "      <td>4</td>\n",
       "      <td>5</td>\n",
       "      <td>01/22/2020</td>\n",
       "      <td>Gansu</td>\n",
       "      <td>Mainland China</td>\n",
       "      <td>1/22/2020 17:00</td>\n",
       "      <td>0.0</td>\n",
       "      <td>0.0</td>\n",
       "      <td>0.0</td>\n",
       "    </tr>\n",
       "  </tbody>\n",
       "</table>\n",
       "</div>"
      ],
      "text/plain": [
       "   SNo ObservationDate Province/State  Country/Region      Last Update  \\\n",
       "0    1      01/22/2020          Anhui  Mainland China  1/22/2020 17:00   \n",
       "1    2      01/22/2020        Beijing  Mainland China  1/22/2020 17:00   \n",
       "2    3      01/22/2020      Chongqing  Mainland China  1/22/2020 17:00   \n",
       "3    4      01/22/2020         Fujian  Mainland China  1/22/2020 17:00   \n",
       "4    5      01/22/2020          Gansu  Mainland China  1/22/2020 17:00   \n",
       "\n",
       "   Confirmed  Deaths  Recovered  \n",
       "0        1.0     0.0        0.0  \n",
       "1       14.0     0.0        0.0  \n",
       "2        6.0     0.0        0.0  \n",
       "3        1.0     0.0        0.0  \n",
       "4        0.0     0.0        0.0  "
      ]
     },
     "execution_count": 2,
     "metadata": {},
     "output_type": "execute_result"
    }
   ],
   "source": [
    "data1=pd.read_csv('./novel-corona-virus-2019-dataset/covid_19_data.csv')\n",
    "data1.head()"
   ]
  },
  {
   "cell_type": "code",
   "execution_count": 6,
   "metadata": {},
   "outputs": [
    {
     "data": {
      "text/html": [
       "<div>\n",
       "<style scoped>\n",
       "    .dataframe tbody tr th:only-of-type {\n",
       "        vertical-align: middle;\n",
       "    }\n",
       "\n",
       "    .dataframe tbody tr th {\n",
       "        vertical-align: top;\n",
       "    }\n",
       "\n",
       "    .dataframe thead th {\n",
       "        text-align: right;\n",
       "    }\n",
       "</style>\n",
       "<table border=\"1\" class=\"dataframe\">\n",
       "  <thead>\n",
       "    <tr style=\"text-align: right;\">\n",
       "      <th></th>\n",
       "      <th>SNo</th>\n",
       "      <th>Confirmed</th>\n",
       "      <th>Deaths</th>\n",
       "      <th>Recovered</th>\n",
       "    </tr>\n",
       "  </thead>\n",
       "  <tbody>\n",
       "    <tr>\n",
       "      <td>count</td>\n",
       "      <td>4247.000000</td>\n",
       "      <td>4247.000000</td>\n",
       "      <td>4247.000000</td>\n",
       "      <td>4247.000000</td>\n",
       "    </tr>\n",
       "    <tr>\n",
       "      <td>mean</td>\n",
       "      <td>2124.000000</td>\n",
       "      <td>586.884624</td>\n",
       "      <td>17.530257</td>\n",
       "      <td>187.914528</td>\n",
       "    </tr>\n",
       "    <tr>\n",
       "      <td>std</td>\n",
       "      <td>1226.147626</td>\n",
       "      <td>5033.596411</td>\n",
       "      <td>190.278672</td>\n",
       "      <td>1976.388824</td>\n",
       "    </tr>\n",
       "    <tr>\n",
       "      <td>min</td>\n",
       "      <td>1.000000</td>\n",
       "      <td>0.000000</td>\n",
       "      <td>0.000000</td>\n",
       "      <td>0.000000</td>\n",
       "    </tr>\n",
       "    <tr>\n",
       "      <td>25%</td>\n",
       "      <td>1062.500000</td>\n",
       "      <td>1.000000</td>\n",
       "      <td>0.000000</td>\n",
       "      <td>0.000000</td>\n",
       "    </tr>\n",
       "    <tr>\n",
       "      <td>50%</td>\n",
       "      <td>2124.000000</td>\n",
       "      <td>9.000000</td>\n",
       "      <td>0.000000</td>\n",
       "      <td>1.000000</td>\n",
       "    </tr>\n",
       "    <tr>\n",
       "      <td>75%</td>\n",
       "      <td>3185.500000</td>\n",
       "      <td>99.500000</td>\n",
       "      <td>1.000000</td>\n",
       "      <td>16.000000</td>\n",
       "    </tr>\n",
       "    <tr>\n",
       "      <td>max</td>\n",
       "      <td>4247.000000</td>\n",
       "      <td>67707.000000</td>\n",
       "      <td>2986.000000</td>\n",
       "      <td>45235.000000</td>\n",
       "    </tr>\n",
       "  </tbody>\n",
       "</table>\n",
       "</div>"
      ],
      "text/plain": [
       "               SNo     Confirmed       Deaths     Recovered\n",
       "count  4247.000000   4247.000000  4247.000000   4247.000000\n",
       "mean   2124.000000    586.884624    17.530257    187.914528\n",
       "std    1226.147626   5033.596411   190.278672   1976.388824\n",
       "min       1.000000      0.000000     0.000000      0.000000\n",
       "25%    1062.500000      1.000000     0.000000      0.000000\n",
       "50%    2124.000000      9.000000     0.000000      1.000000\n",
       "75%    3185.500000     99.500000     1.000000     16.000000\n",
       "max    4247.000000  67707.000000  2986.000000  45235.000000"
      ]
     },
     "execution_count": 6,
     "metadata": {},
     "output_type": "execute_result"
    }
   ],
   "source": [
    "data1.describe()"
   ]
  },
  {
   "cell_type": "code",
   "execution_count": 7,
   "metadata": {},
   "outputs": [
    {
     "name": "stdout",
     "output_type": "stream",
     "text": [
      "<class 'pandas.core.frame.DataFrame'>\n",
      "RangeIndex: 4247 entries, 0 to 4246\n",
      "Data columns (total 8 columns):\n",
      "SNo                4247 non-null int64\n",
      "ObservationDate    4247 non-null object\n",
      "Province/State     2749 non-null object\n",
      "Country/Region     4247 non-null object\n",
      "Last Update        4247 non-null object\n",
      "Confirmed          4247 non-null float64\n",
      "Deaths             4247 non-null float64\n",
      "Recovered          4247 non-null float64\n",
      "dtypes: float64(3), int64(1), object(4)\n",
      "memory usage: 265.6+ KB\n"
     ]
    }
   ],
   "source": [
    "data1.info()"
   ]
  },
  {
   "cell_type": "code",
   "execution_count": 52,
   "metadata": {},
   "outputs": [
    {
     "name": "stdout",
     "output_type": "stream",
     "text": [
      "Province/State         183\t [' Montreal, QC', ' Norfolk County, MA', 'Alameda County, CA', 'Anhui', 'Arizona', 'Ashland, NE', 'Bavaria', 'Beijing', 'Bergen County, NJ', 'Berkeley, CA', 'Berkshire County, MA', 'Boston, MA', 'British Columbia', 'Broward County, FL', 'Calgary, Alberta', 'California', 'Charleston County, SC', 'Chatham County, NC', 'Chicago', 'Chicago, IL', 'Chongqing', 'Clark County, NV', 'Clark County, WA', 'Cobb County, GA', 'Contra Costa County, CA', 'Cook County, IL', 'Cruise Ship', 'Davidson County, TN', 'Davis County, UT', 'Delaware County, PA', 'Denver County, CO', 'Diamond Princess cruise ship', 'Douglas County, CO', 'Douglas County, NE', 'Douglas County, OR', 'Edmonton, Alberta', 'El Paso County, CO', 'Fairfax County, VA', 'Fairfield County, CT', 'Fayette County, KY', 'Floyd County, GA', 'Fort Bend County, TX', 'Fresno County, CA', 'From Diamond Princess', 'Fujian', 'Fulton County, GA', 'Gansu', 'Grafton County, NH', 'Grand Princess Cruise Ship', 'Grant County, WA', 'Guangdong', 'Guangxi', 'Guizhou', 'Hainan', 'Harford County, MD', 'Harris County, TX', 'Hebei', 'Heilongjiang', 'Henan', 'Hendricks County, IN', 'Hillsborough, FL', 'Hong Kong', 'Honolulu County, HI', 'Hubei', 'Hudson County, NJ', 'Humboldt County, CA', 'Hunan', 'Illinois', 'Inner Mongolia', 'Jackson County, OR ', 'Jefferson County, WA', 'Jiangsu', 'Jiangxi', 'Jilin', 'Johnson County, KS', 'Kershaw County, SC', 'King County, WA', 'Kittitas County, WA', 'Klamath County, OR', 'Lackland, TX', 'Lackland, TX (From Diamond Princess)', 'Lee County, FL', 'Liaoning', 'London, ON', 'Los Angeles, CA', 'Macau', 'Madera County, CA', 'Madison, WI', 'Manatee County, FL', 'Maricopa County, AZ', 'Marion County, IN', 'Marion County, OR', 'Middlesex County, MA', 'Montgomery County, MD', 'Montgomery County, PA', 'Montgomery County, TX', 'Nassau County, NY', 'New South Wales', 'New York City, NY', 'New York County, NY', 'Ningxia', 'None', 'Norfolk County, MA', 'Northern Territory', 'Norwell County, MA', 'Okaloosa County, FL', 'Omaha, NE (From Diamond Princess)', 'Ontario', 'Orange County, CA', 'Orange, CA', 'Pierce County, WA', 'Pinal County, AZ', 'Placer County, CA', 'Plymouth County, MA', 'Polk County, GA', 'Portland, OR', 'Providence County, RI', 'Providence, RI', 'Qinghai', 'Queens County, NY', 'Queensland', 'Ramsey County, MN', 'Riverside County, CA', 'Rockingham County, NH', 'Rockland County, NY', 'Sacramento County, CA', 'San Antonio, TX', 'San Benito, CA', 'San Diego County, CA', 'San Francisco County, CA', 'San Mateo, CA', 'Santa Clara County, CA', 'Santa Clara, CA', 'Santa Cruz County, CA', 'Santa Rosa County, FL', 'Sarasota, FL', 'Saratoga County, NY', 'Seattle, WA', 'Shaanxi', 'Shandong', 'Shanghai', 'Shanxi', 'Shelby County, TN', 'Sichuan', 'Snohomish County, WA', 'Sonoma County, CA', 'South Australia', 'Spokane County, WA', 'St. Louis County, MO', 'Suffolk County, MA', 'Suffolk County, NY', 'Summit County, CO', 'Taiwan', 'Tasmania', 'Tempe, AZ', 'Tianjin', 'Tibet', 'Toronto, ON', 'Travis, CA', 'Travis, CA (From Diamond Princess)', 'Tulsa County, OK', 'Ulster County, NY', 'Umatilla, OR', 'Unassigned Location (From Diamond Princess)', 'Unassigned Location, VT', 'Unassigned Location, WA', 'Unknown Location, MA', 'Victoria', 'Volusia County, FL', 'Wake County, NC', 'Washington', 'Washington County, OR', 'Washington, D.C.', 'Washoe County, NV', 'Wayne County, PA', 'Westchester County, NY', 'Western Australia', 'Williamson County, TN', 'Xinjiang', 'Yolo County, CA', 'Yunnan', 'Zhejiang', 'nan']\n",
      "Country/Region         111\t [' Azerbaijan', 'Afghanistan', 'Algeria', 'Andorra', 'Argentina', 'Armenia', 'Australia', 'Austria', 'Azerbaijan', 'Bahrain', 'Bangladesh', 'Belarus', 'Belgium', 'Bhutan', 'Bosnia and Herzegovina', 'Brazil', 'Bulgaria', 'Cambodia', 'Cameroon', 'Canada', 'Chile', 'Colombia', 'Costa Rica', 'Croatia', 'Czech Republic', 'Denmark', 'Dominican Republic', 'Ecuador', 'Egypt', 'Estonia', 'Faroe Islands', 'Finland', 'France', 'French Guiana', 'Georgia', 'Germany', 'Gibraltar', 'Greece', 'Hong Kong', 'Hungary', 'Iceland', 'India', 'Indonesia', 'Iran', 'Iraq', 'Ireland', 'Israel', 'Italy', 'Ivory Coast', 'Japan', 'Jordan', 'Kuwait', 'Latvia', 'Lebanon', 'Liechtenstein', 'Lithuania', 'Luxembourg', 'Macau', 'Mainland China', 'Malaysia', 'Maldives', 'Malta', 'Martinique', 'Mexico', 'Moldova', 'Monaco', 'Morocco', 'Nepal', 'Netherlands', 'New Zealand', 'Nigeria', 'North Ireland', 'North Macedonia', 'Norway', 'Oman', 'Others', 'Pakistan', 'Palestine', 'Paraguay', 'Peru', 'Philippines', 'Poland', 'Portugal', 'Qatar', 'Republic of Ireland', 'Romania', 'Russia', 'Saint Barthelemy', 'San Marino', 'Saudi Arabia', 'Senegal', 'Serbia', 'Singapore', 'Slovakia', 'Slovenia', 'South Africa', 'South Korea', 'Spain', 'Sri Lanka', 'Sweden', 'Switzerland', 'Taiwan', 'Thailand', 'Togo', 'Tunisia', 'UK', 'US', 'Ukraine', 'United Arab Emirates', 'Vatican City', 'Vietnam']\n"
     ]
    }
   ],
   "source": [
    "for column in data1.columns:\n",
    "    if column=='Province/State' or column=='Country/Region':\n",
    "        uniques = sorted(data1[column].unique().astype(str))\n",
    "        print('{0:20s} {1:5d}\\t'.format(column, len(uniques)), uniques)"
   ]
  },
  {
   "cell_type": "markdown",
   "metadata": {},
   "source": [
    "# Now we analyze different regions' cases"
   ]
  },
  {
   "cell_type": "markdown",
   "metadata": {},
   "source": [
    "##  1.Take a look at time series confirmed case."
   ]
  },
  {
   "cell_type": "markdown",
   "metadata": {},
   "source": [
    "### China"
   ]
  },
  {
   "cell_type": "code",
   "execution_count": 67,
   "metadata": {},
   "outputs": [
    {
     "name": "stdout",
     "output_type": "stream",
     "text": [
      "Raw Data (aggregated Mainland China confirmed cases per day):\n",
      "\n",
      "{'1/22/20': 547, '1/23/20': 639, '1/24/20': 916, '1/25/20': 1399, '1/26/20': 2062, '1/27/20': 2863, '1/28/20': 5494, '1/29/20': 6070, '1/30/20': 8124, '1/31/20': 9783, '2/1/20': 11871, '2/2/20': 16607, '2/3/20': 19693, '2/4/20': 23680, '2/5/20': 27409, '2/6/20': 30553, '2/7/20': 34075, '2/8/20': 36778, '2/9/20': 39790, '2/10/20': 42306, '2/11/20': 44327, '2/12/20': 44699, '2/13/20': 59832, '2/14/20': 66292, '2/15/20': 68347, '2/16/20': 70446, '2/17/20': 72364, '2/18/20': 74139, '2/19/20': 74546, '2/20/20': 74999}\n"
     ]
    }
   ],
   "source": [
    "import csv\n",
    "\n",
    "data = {}\n",
    "header = []\n",
    "\n",
    "with open('./novel-corona-virus-2019-dataset/time_series_covid_19_confirmed.csv') as csvfile:\n",
    "    plots = csv.reader(csvfile, delimiter=',')\n",
    "    header = next(plots)\n",
    "    for date in header[4:]:\n",
    "        data[date] = 0\n",
    "    #print(data)\n",
    "    for row in plots:\n",
    "        if row[1].strip() == 'Mainland China':\n",
    "            for i in range(4, len(row)):\n",
    "                #print(header[i], int(row[i]))\n",
    "                try:\n",
    "                    data[header[i]] += int(row[i])\n",
    "                except:\n",
    "                    print(\"No data entered at:\", row[0], \", col:\", i)\n",
    "                    \n",
    "print(\"Raw Data (aggregated Mainland China confirmed cases per day):\\n\")\n",
    "print(data)"
   ]
  },
  {
   "cell_type": "code",
   "execution_count": 75,
   "metadata": {},
   "outputs": [
    {
     "name": "stdout",
     "output_type": "stream",
     "text": [
      "Start Date (extracted from data):\n",
      "01/22/20\n",
      "\n",
      "[ 5.28000559e+04 -3.40137206e-02 -5.79034878e+04]\n",
      "Curve Fit Covariance:\n",
      "[[ 3.26217841e+08  1.33674488e+02 -3.52467725e+08]\n",
      " [ 1.33674488e+02  5.51454286e-05 -1.43863705e+02]\n",
      " [-3.52467725e+08 -1.43863705e+02  3.82244679e+08]]\n"
     ]
    },
    {
     "data": {
      "image/png": "[encoded data removed]",
      "text/plain": [
       "<Figure size 720x360 with 1 Axes>"
      ]
     },
     "metadata": {
      "needs_background": "light"
     },
     "output_type": "display_data"
    },
    {
     "name": "stdout",
     "output_type": "stream",
     "text": [
      "Prediction (exponential):\n",
      "02/21/20: 88,581\n",
      "02/22/20: 93,649\n",
      "02/23/20: 98,893\n",
      "02/24/20: 104,318\n",
      "02/25/20: 109,931\n",
      "02/26/20: 115,737\n",
      "02/27/20: 121,745\n",
      "02/28/20: 127,961\n",
      "02/29/20: 134,392\n",
      "03/01/20: 141,045\n",
      "03/02/20: 147,928\n",
      "03/03/20: 155,050\n",
      "03/04/20: 162,418\n",
      "03/05/20: 170,041\n",
      "03/06/20: 177,927\n",
      "03/07/20: 186,087\n",
      "03/08/20: 194,528\n",
      "03/09/20: 203,262\n",
      "03/10/20: 212,298\n",
      "03/11/20: 221,647\n",
      "03/12/20: 231,319\n",
      "03/13/20: 241,326\n",
      "03/14/20: 251,679\n",
      "03/15/20: 262,390\n",
      "03/16/20: 273,472\n",
      "03/17/20: 284,937\n",
      "03/18/20: 296,799\n",
      "03/19/20: 309,071\n",
      "03/20/20: 321,768\n",
      "03/21/20: 334,904\n"
     ]
    }
   ],
   "source": [
    "import matplotlib.pyplot as plt\n",
    "from scipy.optimize import curve_fit\n",
    "import numpy as np\n",
    "\n",
    "import datetime\n",
    "\n",
    "# Extract start date from data in case this for some reason changes.\n",
    "sd_str = next(iter(data.keys()))\n",
    "sd_tkn = sd_str.split('/')\n",
    "startdate = datetime.date(2000 + int(sd_tkn[2]), int(sd_tkn[0]), int(sd_tkn[1]))\n",
    "print(\"Start Date (extracted from data):\")\n",
    "print(startdate.strftime('%m/%d/%y'))\n",
    "print()\n",
    "                    \n",
    "def exp(x, a, b, c):\n",
    "    return a * np.exp(-b * x) + c\n",
    "\n",
    "def sigmoid(x, L ,x0, k, b):\n",
    "    y = L / (1 + np.exp(-k*(x-x0)))+b\n",
    "    return (y)\n",
    "\n",
    "x=[*data.keys()]\n",
    "x_enum=[*range(0, len(x))]\n",
    "y=[*data.values()]\n",
    "\n",
    "# Exponential curve fit.\n",
    "popt, pcov = curve_fit(exp, x_enum, y, p0 = (1, 1e-6, 1))\n",
    "\n",
    "# Sigmoidal curve fit.\n",
    "# p0_sigmoid = [max(y), np.median(x_enum),1,min(y)] # this is an mandatory initial guess\n",
    "# popt, pcov = curve_fit(sigmoid, x_enum, y, p0=p0_sigmoid)\n",
    "\n",
    "print(popt)\n",
    "print(\"Curve Fit Covariance:\")\n",
    "print(pcov)\n",
    "\n",
    "plt.figure(figsize=(10, 5))\n",
    "plt.xticks(rotation=90)\n",
    "plt.plot(x, y, 'o', label='data')\n",
    "\n",
    "# Plot exponential fit.\n",
    "plt.plot(x, [exp(xp, *popt) for xp in x_enum], 'r-',\n",
    "        label='fit: a=%5.3f, b=%5.3f, c=%5.3f' % tuple(popt))\n",
    "\n",
    "# Plot sigmoidal fit.\n",
    "# plt.plot(x, [sigmoid(xp, *popt) for xp in x_enum], 'r-',\n",
    "#         label='fit: a=%5.3f, b=%5.3f, c=%5.3f' % tuple(popt))\n",
    "\n",
    "plt.title(\"Mainland China confirmed cases per day\")\n",
    "plt.legend()\n",
    "plt.ylabel(\"Mainland China Confirmed Cases\")\n",
    "plt.show()\n",
    "\n",
    "print(\"Prediction (exponential):\")\n",
    "for day_index in range(len(x), len(x)+30):\n",
    "    day = (startdate + datetime.timedelta(days=day_index)).strftime('%m/%d/%y')\n",
    "    count = exp(day_index, *popt)\n",
    "    print(f\"{day}: {int(count):,d}\")"
   ]
  },
  {
   "cell_type": "code",
   "execution_count": 61,
   "metadata": {},
   "outputs": [
    {
     "data": {
      "image/png": "[encoded data removed]",
      "text/plain": [
       "<Figure size 1440x288 with 1 Axes>"
      ]
     },
     "metadata": {
      "needs_background": "light"
     },
     "output_type": "display_data"
    }
   ],
   "source": [
    "# Some function may be used later\n",
    "def plot_count(feature, value, title, df, size=1):\n",
    "    f, ax = plt.subplots(1,1, figsize=(4*size,4))\n",
    "    g = sns.barplot(df[feature], df[value],  palette='Set3')\n",
    "    g.set_title(\"Number of {}\".format(title))\n",
    "    ax.set_xticklabels(ax.get_xticklabels(),rotation=90)\n",
    "    plt.show()    \n",
    "\n",
    "datac = data1.loc[data1['Country/Region']==\"Mainland China\"]\n",
    "datac = datac.sort_values(by = ['Province/State','Last Update'])\n",
    "# filtered_data_last = datac.drop_duplicates(subset = ['Province/State'],keep='first')\n",
    "plot_count('Province/State', 'Confirmed', 'Confirmed cases (last updated)', datac, size=5)"
   ]
  },
  {
   "cell_type": "code",
   "execution_count": 66,
   "metadata": {},
   "outputs": [
    {
     "data": {
      "image/png": "[encoded data removed]",
      "text/plain": [
       "<Figure size 1440x288 with 1 Axes>"
      ]
     },
     "metadata": {
      "needs_background": "light"
     },
     "output_type": "display_data"
    }
   ],
   "source": [
    "datac_noHubei = datac.loc[data1['Province/State']!=\"Hubei\"]\n",
    "datac_noHubei = datac_noHubei.sort_values(by = ['Province/State','Last Update'])\n",
    "# filtered_data_last = datac.drop_duplicates(subset = ['Province/State'],keep='first')\n",
    "plot_count('Province/State', 'Confirmed', 'Confirmed cases (last updated)', datac_noHubei, size=5)"
   ]
  },
  {
   "cell_type": "markdown",
   "metadata": {},
   "source": [
    "### Since death and recovered cases are proportional to the confirmed case, we won't show them all."
   ]
  },
  {
   "cell_type": "code",
   "execution_count": 100,
   "metadata": {},
   "outputs": [
    {
     "name": "stdout",
     "output_type": "stream",
     "text": [
      "Death/Recovered Rate in Mainland China\n"
     ]
    },
    {
     "data": {
      "application/vnd.plotly.v1+json": {
       "config": {
        "plotlyServerURL": "https://plot.ly"
       },
       "data": [
        {
         "hole": 0.3,
         "hoverinfo": "label+percent+value",
         "labels": [
          "ObservationDate",
          "Province/State"
         ],
         "marker": {
          "colors": [
           "purplered",
           "blue"
          ],
          "line": {
           "color": "#000000",
           "width": 2
          }
         },
         "textinfo": "label+percent",
         "type": "pie",
         "values": [
          "01/22/2020",
          "Anhui"
         ]
        }
       ],
       "layout": {
        "template": {
         "data": {
          "bar": [
           {
            "error_x": {
             "color": "#2a3f5f"
            },
            "error_y": {
             "color": "#2a3f5f"
            },
            "marker": {
             "line": {
              "color": "#E5ECF6",
              "width": 0.5
             }
            },
            "type": "bar"
           }
          ],
          "barpolar": [
           {
            "marker": {
             "line": {
              "color": "#E5ECF6",
              "width": 0.5
             }
            },
            "type": "barpolar"
           }
          ],
          "carpet": [
           {
            "aaxis": {
             "endlinecolor": "#2a3f5f",
             "gridcolor": "white",
             "linecolor": "white",
             "minorgridcolor": "white",
             "startlinecolor": "#2a3f5f"
            },
            "baxis": {
             "endlinecolor": "#2a3f5f",
             "gridcolor": "white",
             "linecolor": "white",
             "minorgridcolor": "white",
             "startlinecolor": "#2a3f5f"
            },
            "type": "carpet"
           }
          ],
          "choropleth": [
           {
            "colorbar": {
             "outlinewidth": 0,
             "ticks": ""
            },
            "type": "choropleth"
           }
          ],
          "contour": [
           {
            "colorbar": {
             "outlinewidth": 0,
             "ticks": ""
            },
            "colorscale": [
             [
              0,
              "#0d0887"
             ],
             [
              0.1111111111111111,
              "#46039f"
             ],
             [
              0.2222222222222222,
              "#7201a8"
             ],
             [
              0.3333333333333333,
              "#9c179e"
             ],
             [
              0.4444444444444444,
              "#bd3786"
             ],
             [
              0.5555555555555556,
              "#d8576b"
             ],
             [
              0.6666666666666666,
              "#ed7953"
             ],
             [
              0.7777777777777778,
              "#fb9f3a"
             ],
             [
              0.8888888888888888,
              "#fdca26"
             ],
             [
              1,
              "#f0f921"
             ]
            ],
            "type": "contour"
           }
          ],
          "contourcarpet": [
           {
            "colorbar": {
             "outlinewidth": 0,
             "ticks": ""
            },
            "type": "contourcarpet"
           }
          ],
          "heatmap": [
           {
            "colorbar": {
             "outlinewidth": 0,
             "ticks": ""
            },
            "colorscale": [
             [
              0,
              "#0d0887"
             ],
             [
              0.1111111111111111,
              "#46039f"
             ],
             [
              0.2222222222222222,
              "#7201a8"
             ],
             [
              0.3333333333333333,
              "#9c179e"
             ],
             [
              0.4444444444444444,
              "#bd3786"
             ],
             [
              0.5555555555555556,
              "#d8576b"
             ],
             [
              0.6666666666666666,
              "#ed7953"
             ],
             [
              0.7777777777777778,
              "#fb9f3a"
             ],
             [
              0.8888888888888888,
              "#fdca26"
             ],
             [
              1,
              "#f0f921"
             ]
            ],
            "type": "heatmap"
           }
          ],
          "heatmapgl": [
           {
            "colorbar": {
             "outlinewidth": 0,
             "ticks": ""
            },
            "colorscale": [
             [
              0,
              "#0d0887"
             ],
             [
              0.1111111111111111,
              "#46039f"
             ],
             [
              0.2222222222222222,
              "#7201a8"
             ],
             [
              0.3333333333333333,
              "#9c179e"
             ],
             [
              0.4444444444444444,
              "#bd3786"
             ],
             [
              0.5555555555555556,
              "#d8576b"
             ],
             [
              0.6666666666666666,
              "#ed7953"
             ],
             [
              0.7777777777777778,
              "#fb9f3a"
             ],
             [
              0.8888888888888888,
              "#fdca26"
             ],
             [
              1,
              "#f0f921"
             ]
            ],
            "type": "heatmapgl"
           }
          ],
          "histogram": [
           {
            "marker": {
             "colorbar": {
              "outlinewidth": 0,
              "ticks": ""
             }
            },
            "type": "histogram"
           }
          ],
          "histogram2d": [
           {
            "colorbar": {
             "outlinewidth": 0,
             "ticks": ""
            },
            "colorscale": [
             [
              0,
              "#0d0887"
             ],
             [
              0.1111111111111111,
              "#46039f"
             ],
             [
              0.2222222222222222,
              "#7201a8"
             ],
             [
              0.3333333333333333,
              "#9c179e"
             ],
             [
              0.4444444444444444,
              "#bd3786"
             ],
             [
              0.5555555555555556,
              "#d8576b"
             ],
             [
              0.6666666666666666,
              "#ed7953"
             ],
             [
              0.7777777777777778,
              "#fb9f3a"
             ],
             [
              0.8888888888888888,
              "#fdca26"
             ],
             [
              1,
              "#f0f921"
             ]
            ],
            "type": "histogram2d"
           }
          ],
          "histogram2dcontour": [
           {
            "colorbar": {
             "outlinewidth": 0,
             "ticks": ""
            },
            "colorscale": [
             [
              0,
              "#0d0887"
             ],
             [
              0.1111111111111111,
              "#46039f"
             ],
             [
              0.2222222222222222,
              "#7201a8"
             ],
             [
              0.3333333333333333,
              "#9c179e"
             ],
             [
              0.4444444444444444,
              "#bd3786"
             ],
             [
              0.5555555555555556,
              "#d8576b"
             ],
             [
              0.6666666666666666,
              "#ed7953"
             ],
             [
              0.7777777777777778,
              "#fb9f3a"
             ],
             [
              0.8888888888888888,
              "#fdca26"
             ],
             [
              1,
              "#f0f921"
             ]
            ],
            "type": "histogram2dcontour"
           }
          ],
          "mesh3d": [
           {
            "colorbar": {
             "outlinewidth": 0,
             "ticks": ""
            },
            "type": "mesh3d"
           }
          ],
          "parcoords": [
           {
            "line": {
             "colorbar": {
              "outlinewidth": 0,
              "ticks": ""
             }
            },
            "type": "parcoords"
           }
          ],
          "pie": [
           {
            "automargin": true,
            "type": "pie"
           }
          ],
          "scatter": [
           {
            "marker": {
             "colorbar": {
              "outlinewidth": 0,
              "ticks": ""
             }
            },
            "type": "scatter"
           }
          ],
          "scatter3d": [
           {
            "line": {
             "colorbar": {
              "outlinewidth": 0,
              "ticks": ""
             }
            },
            "marker": {
             "colorbar": {
              "outlinewidth": 0,
              "ticks": ""
             }
            },
            "type": "scatter3d"
           }
          ],
          "scattercarpet": [
           {
            "marker": {
             "colorbar": {
              "outlinewidth": 0,
              "ticks": ""
             }
            },
            "type": "scattercarpet"
           }
          ],
          "scattergeo": [
           {
            "marker": {
             "colorbar": {
              "outlinewidth": 0,
              "ticks": ""
             }
            },
            "type": "scattergeo"
           }
          ],
          "scattergl": [
           {
            "marker": {
             "colorbar": {
              "outlinewidth": 0,
              "ticks": ""
             }
            },
            "type": "scattergl"
           }
          ],
          "scattermapbox": [
           {
            "marker": {
             "colorbar": {
              "outlinewidth": 0,
              "ticks": ""
             }
            },
            "type": "scattermapbox"
           }
          ],
          "scatterpolar": [
           {
            "marker": {
             "colorbar": {
              "outlinewidth": 0,
              "ticks": ""
             }
            },
            "type": "scatterpolar"
           }
          ],
          "scatterpolargl": [
           {
            "marker": {
             "colorbar": {
              "outlinewidth": 0,
              "ticks": ""
             }
            },
            "type": "scatterpolargl"
           }
          ],
          "scatterternary": [
           {
            "marker": {
             "colorbar": {
              "outlinewidth": 0,
              "ticks": ""
             }
            },
            "type": "scatterternary"
           }
          ],
          "surface": [
           {
            "colorbar": {
             "outlinewidth": 0,
             "ticks": ""
            },
            "colorscale": [
             [
              0,
              "#0d0887"
             ],
             [
              0.1111111111111111,
              "#46039f"
             ],
             [
              0.2222222222222222,
              "#7201a8"
             ],
             [
              0.3333333333333333,
              "#9c179e"
             ],
             [
              0.4444444444444444,
              "#bd3786"
             ],
             [
              0.5555555555555556,
              "#d8576b"
             ],
             [
              0.6666666666666666,
              "#ed7953"
             ],
             [
              0.7777777777777778,
              "#fb9f3a"
             ],
             [
              0.8888888888888888,
              "#fdca26"
             ],
             [
              1,
              "#f0f921"
             ]
            ],
            "type": "surface"
           }
          ],
          "table": [
           {
            "cells": {
             "fill": {
              "color": "#EBF0F8"
             },
             "line": {
              "color": "white"
             }
            },
            "header": {
             "fill": {
              "color": "#C8D4E3"
             },
             "line": {
              "color": "white"
             }
            },
            "type": "table"
           }
          ]
         },
         "layout": {
          "annotationdefaults": {
           "arrowcolor": "#2a3f5f",
           "arrowhead": 0,
           "arrowwidth": 1
          },
          "coloraxis": {
           "colorbar": {
            "outlinewidth": 0,
            "ticks": ""
           }
          },
          "colorscale": {
           "diverging": [
            [
             0,
             "#8e0152"
            ],
            [
             0.1,
             "#c51b7d"
            ],
            [
             0.2,
             "#de77ae"
            ],
            [
             0.3,
             "#f1b6da"
            ],
            [
             0.4,
             "#fde0ef"
            ],
            [
             0.5,
             "#f7f7f7"
            ],
            [
             0.6,
             "#e6f5d0"
            ],
            [
             0.7,
             "#b8e186"
            ],
            [
             0.8,
             "#7fbc41"
            ],
            [
             0.9,
             "#4d9221"
            ],
            [
             1,
             "#276419"
            ]
           ],
           "sequential": [
            [
             0,
             "#0d0887"
            ],
            [
             0.1111111111111111,
             "#46039f"
            ],
            [
             0.2222222222222222,
             "#7201a8"
            ],
            [
             0.3333333333333333,
             "#9c179e"
            ],
            [
             0.4444444444444444,
             "#bd3786"
            ],
            [
             0.5555555555555556,
             "#d8576b"
            ],
            [
             0.6666666666666666,
             "#ed7953"
            ],
            [
             0.7777777777777778,
             "#fb9f3a"
            ],
            [
             0.8888888888888888,
             "#fdca26"
            ],
            [
             1,
             "#f0f921"
            ]
           ],
           "sequentialminus": [
            [
             0,
             "#0d0887"
            ],
            [
             0.1111111111111111,
             "#46039f"
            ],
            [
             0.2222222222222222,
             "#7201a8"
            ],
            [
             0.3333333333333333,
             "#9c179e"
            ],
            [
             0.4444444444444444,
             "#bd3786"
            ],
            [
             0.5555555555555556,
             "#d8576b"
            ],
            [
             0.6666666666666666,
             "#ed7953"
            ],
            [
             0.7777777777777778,
             "#fb9f3a"
            ],
            [
             0.8888888888888888,
             "#fdca26"
            ],
            [
             1,
             "#f0f921"
            ]
           ]
          },
          "colorway": [
           "#636efa",
           "#EF553B",
           "#00cc96",
           "#ab63fa",
           "#FFA15A",
           "#19d3f3",
           "#FF6692",
           "#B6E880",
           "#FF97FF",
           "#FECB52"
          ],
          "font": {
           "color": "#2a3f5f"
          },
          "geo": {
           "bgcolor": "white",
           "lakecolor": "white",
           "landcolor": "#E5ECF6",
           "showlakes": true,
           "showland": true,
           "subunitcolor": "white"
          },
          "hoverlabel": {
           "align": "left"
          },
          "hovermode": "closest",
          "mapbox": {
           "style": "light"
          },
          "paper_bgcolor": "white",
          "plot_bgcolor": "#E5ECF6",
          "polar": {
           "angularaxis": {
            "gridcolor": "white",
            "linecolor": "white",
            "ticks": ""
           },
           "bgcolor": "#E5ECF6",
           "radialaxis": {
            "gridcolor": "white",
            "linecolor": "white",
            "ticks": ""
           }
          },
          "scene": {
           "xaxis": {
            "backgroundcolor": "#E5ECF6",
            "gridcolor": "white",
            "gridwidth": 2,
            "linecolor": "white",
            "showbackground": true,
            "ticks": "",
            "zerolinecolor": "white"
           },
           "yaxis": {
            "backgroundcolor": "#E5ECF6",
            "gridcolor": "white",
            "gridwidth": 2,
            "linecolor": "white",
            "showbackground": true,
            "ticks": "",
            "zerolinecolor": "white"
           },
           "zaxis": {
            "backgroundcolor": "#E5ECF6",
            "gridcolor": "white",
            "gridwidth": 2,
            "linecolor": "white",
            "showbackground": true,
            "ticks": "",
            "zerolinecolor": "white"
           }
          },
          "shapedefaults": {
           "line": {
            "color": "#2a3f5f"
           }
          },
          "ternary": {
           "aaxis": {
            "gridcolor": "white",
            "linecolor": "white",
            "ticks": ""
           },
           "baxis": {
            "gridcolor": "white",
            "linecolor": "white",
            "ticks": ""
           },
           "bgcolor": "#E5ECF6",
           "caxis": {
            "gridcolor": "white",
            "linecolor": "white",
            "ticks": ""
           }
          },
          "title": {
           "x": 0.05
          },
          "xaxis": {
           "automargin": true,
           "gridcolor": "white",
           "linecolor": "white",
           "ticks": "",
           "title": {
            "standoff": 15
           },
           "zerolinecolor": "white",
           "zerolinewidth": 2
          },
          "yaxis": {
           "automargin": true,
           "gridcolor": "white",
           "linecolor": "white",
           "ticks": "",
           "title": {
            "standoff": 15
           },
           "zerolinecolor": "white",
           "zerolinewidth": 2
          }
         }
        }
       }
      },
      "text/html": [
       "<div>\n",
       "        \n",
       "        \n",
       "            <div id=\"37fe433d-ad8c-4753-8969-6368cf0415f8\" class=\"plotly-graph-div\" style=\"height:525px; width:100%;\"></div>\n",
       "            <script type=\"text/javascript\">\n",
       "                require([\"plotly\"], function(Plotly) {\n",
       "                    window.PLOTLYENV=window.PLOTLYENV || {};\n",
       "                    \n",
       "                if (document.getElementById(\"37fe433d-ad8c-4753-8969-6368cf0415f8\")) {\n",
       "                    Plotly.newPlot(\n",
       "                        '37fe433d-ad8c-4753-8969-6368cf0415f8',\n",
       "                        [{\"hole\": 0.3, \"hoverinfo\": \"label+percent+value\", \"labels\": [\"ObservationDate\", \"Province/State\"], \"marker\": {\"colors\": [\"purplered\", \"blue\"], \"line\": {\"color\": \"#000000\", \"width\": 2}}, \"textinfo\": \"label+percent\", \"type\": \"pie\", \"values\": [\"01/22/2020\", \"Anhui\"]}],\n",
       "                        {\"template\": {\"data\": {\"bar\": [{\"error_x\": {\"color\": \"#2a3f5f\"}, \"error_y\": {\"color\": \"#2a3f5f\"}, \"marker\": {\"line\": {\"color\": \"#E5ECF6\", \"width\": 0.5}}, \"type\": \"bar\"}], \"barpolar\": [{\"marker\": {\"line\": {\"color\": \"#E5ECF6\", \"width\": 0.5}}, \"type\": \"barpolar\"}], \"carpet\": [{\"aaxis\": {\"endlinecolor\": \"#2a3f5f\", \"gridcolor\": \"white\", \"linecolor\": \"white\", \"minorgridcolor\": \"white\", \"startlinecolor\": \"#2a3f5f\"}, \"baxis\": {\"endlinecolor\": \"#2a3f5f\", \"gridcolor\": \"white\", \"linecolor\": \"white\", \"minorgridcolor\": \"white\", \"startlinecolor\": \"#2a3f5f\"}, \"type\": \"carpet\"}], \"choropleth\": [{\"colorbar\": {\"outlinewidth\": 0, \"ticks\": \"\"}, \"type\": \"choropleth\"}], \"contour\": [{\"colorbar\": {\"outlinewidth\": 0, \"ticks\": \"\"}, \"colorscale\": [[0.0, \"#0d0887\"], [0.1111111111111111, \"#46039f\"], [0.2222222222222222, \"#7201a8\"], [0.3333333333333333, \"#9c179e\"], [0.4444444444444444, \"#bd3786\"], [0.5555555555555556, \"#d8576b\"], [0.6666666666666666, \"#ed7953\"], [0.7777777777777778, \"#fb9f3a\"], [0.8888888888888888, \"#fdca26\"], [1.0, \"#f0f921\"]], \"type\": \"contour\"}], \"contourcarpet\": [{\"colorbar\": {\"outlinewidth\": 0, \"ticks\": \"\"}, \"type\": \"contourcarpet\"}], \"heatmap\": [{\"colorbar\": {\"outlinewidth\": 0, \"ticks\": \"\"}, \"colorscale\": [[0.0, \"#0d0887\"], [0.1111111111111111, \"#46039f\"], [0.2222222222222222, \"#7201a8\"], [0.3333333333333333, \"#9c179e\"], [0.4444444444444444, \"#bd3786\"], [0.5555555555555556, \"#d8576b\"], [0.6666666666666666, \"#ed7953\"], [0.7777777777777778, \"#fb9f3a\"], [0.8888888888888888, \"#fdca26\"], [1.0, \"#f0f921\"]], \"type\": \"heatmap\"}], \"heatmapgl\": [{\"colorbar\": {\"outlinewidth\": 0, \"ticks\": \"\"}, \"colorscale\": [[0.0, \"#0d0887\"], [0.1111111111111111, \"#46039f\"], [0.2222222222222222, \"#7201a8\"], [0.3333333333333333, \"#9c179e\"], [0.4444444444444444, \"#bd3786\"], [0.5555555555555556, \"#d8576b\"], [0.6666666666666666, \"#ed7953\"], [0.7777777777777778, \"#fb9f3a\"], [0.8888888888888888, \"#fdca26\"], [1.0, \"#f0f921\"]], \"type\": \"heatmapgl\"}], \"histogram\": [{\"marker\": {\"colorbar\": {\"outlinewidth\": 0, \"ticks\": \"\"}}, \"type\": \"histogram\"}], \"histogram2d\": [{\"colorbar\": {\"outlinewidth\": 0, \"ticks\": \"\"}, \"colorscale\": [[0.0, \"#0d0887\"], [0.1111111111111111, \"#46039f\"], [0.2222222222222222, \"#7201a8\"], [0.3333333333333333, \"#9c179e\"], [0.4444444444444444, \"#bd3786\"], [0.5555555555555556, \"#d8576b\"], [0.6666666666666666, \"#ed7953\"], [0.7777777777777778, \"#fb9f3a\"], [0.8888888888888888, \"#fdca26\"], [1.0, \"#f0f921\"]], \"type\": \"histogram2d\"}], \"histogram2dcontour\": [{\"colorbar\": {\"outlinewidth\": 0, \"ticks\": \"\"}, \"colorscale\": [[0.0, \"#0d0887\"], [0.1111111111111111, \"#46039f\"], [0.2222222222222222, \"#7201a8\"], [0.3333333333333333, \"#9c179e\"], [0.4444444444444444, \"#bd3786\"], [0.5555555555555556, \"#d8576b\"], [0.6666666666666666, \"#ed7953\"], [0.7777777777777778, \"#fb9f3a\"], [0.8888888888888888, \"#fdca26\"], [1.0, \"#f0f921\"]], \"type\": \"histogram2dcontour\"}], \"mesh3d\": [{\"colorbar\": {\"outlinewidth\": 0, \"ticks\": \"\"}, \"type\": \"mesh3d\"}], \"parcoords\": [{\"line\": {\"colorbar\": {\"outlinewidth\": 0, \"ticks\": \"\"}}, \"type\": \"parcoords\"}], \"pie\": [{\"automargin\": true, \"type\": \"pie\"}], \"scatter\": [{\"marker\": {\"colorbar\": {\"outlinewidth\": 0, \"ticks\": \"\"}}, \"type\": \"scatter\"}], \"scatter3d\": [{\"line\": {\"colorbar\": {\"outlinewidth\": 0, \"ticks\": \"\"}}, \"marker\": {\"colorbar\": {\"outlinewidth\": 0, \"ticks\": \"\"}}, \"type\": \"scatter3d\"}], \"scattercarpet\": [{\"marker\": {\"colorbar\": {\"outlinewidth\": 0, \"ticks\": \"\"}}, \"type\": \"scattercarpet\"}], \"scattergeo\": [{\"marker\": {\"colorbar\": {\"outlinewidth\": 0, \"ticks\": \"\"}}, \"type\": \"scattergeo\"}], \"scattergl\": [{\"marker\": {\"colorbar\": {\"outlinewidth\": 0, \"ticks\": \"\"}}, \"type\": \"scattergl\"}], \"scattermapbox\": [{\"marker\": {\"colorbar\": {\"outlinewidth\": 0, \"ticks\": \"\"}}, \"type\": \"scattermapbox\"}], \"scatterpolar\": [{\"marker\": {\"colorbar\": {\"outlinewidth\": 0, \"ticks\": \"\"}}, \"type\": \"scatterpolar\"}], \"scatterpolargl\": [{\"marker\": {\"colorbar\": {\"outlinewidth\": 0, \"ticks\": \"\"}}, \"type\": \"scatterpolargl\"}], \"scatterternary\": [{\"marker\": {\"colorbar\": {\"outlinewidth\": 0, \"ticks\": \"\"}}, \"type\": \"scatterternary\"}], \"surface\": [{\"colorbar\": {\"outlinewidth\": 0, \"ticks\": \"\"}, \"colorscale\": [[0.0, \"#0d0887\"], [0.1111111111111111, \"#46039f\"], [0.2222222222222222, \"#7201a8\"], [0.3333333333333333, \"#9c179e\"], [0.4444444444444444, \"#bd3786\"], [0.5555555555555556, \"#d8576b\"], [0.6666666666666666, \"#ed7953\"], [0.7777777777777778, \"#fb9f3a\"], [0.8888888888888888, \"#fdca26\"], [1.0, \"#f0f921\"]], \"type\": \"surface\"}], \"table\": [{\"cells\": {\"fill\": {\"color\": \"#EBF0F8\"}, \"line\": {\"color\": \"white\"}}, \"header\": {\"fill\": {\"color\": \"#C8D4E3\"}, \"line\": {\"color\": \"white\"}}, \"type\": \"table\"}]}, \"layout\": {\"annotationdefaults\": {\"arrowcolor\": \"#2a3f5f\", \"arrowhead\": 0, \"arrowwidth\": 1}, \"coloraxis\": {\"colorbar\": {\"outlinewidth\": 0, \"ticks\": \"\"}}, \"colorscale\": {\"diverging\": [[0, \"#8e0152\"], [0.1, \"#c51b7d\"], [0.2, \"#de77ae\"], [0.3, \"#f1b6da\"], [0.4, \"#fde0ef\"], [0.5, \"#f7f7f7\"], [0.6, \"#e6f5d0\"], [0.7, \"#b8e186\"], [0.8, \"#7fbc41\"], [0.9, \"#4d9221\"], [1, \"#276419\"]], \"sequential\": [[0.0, \"#0d0887\"], [0.1111111111111111, \"#46039f\"], [0.2222222222222222, \"#7201a8\"], [0.3333333333333333, \"#9c179e\"], [0.4444444444444444, \"#bd3786\"], [0.5555555555555556, \"#d8576b\"], [0.6666666666666666, \"#ed7953\"], [0.7777777777777778, \"#fb9f3a\"], [0.8888888888888888, \"#fdca26\"], [1.0, \"#f0f921\"]], \"sequentialminus\": [[0.0, \"#0d0887\"], [0.1111111111111111, \"#46039f\"], [0.2222222222222222, \"#7201a8\"], [0.3333333333333333, \"#9c179e\"], [0.4444444444444444, \"#bd3786\"], [0.5555555555555556, \"#d8576b\"], [0.6666666666666666, \"#ed7953\"], [0.7777777777777778, \"#fb9f3a\"], [0.8888888888888888, \"#fdca26\"], [1.0, \"#f0f921\"]]}, \"colorway\": [\"#636efa\", \"#EF553B\", \"#00cc96\", \"#ab63fa\", \"#FFA15A\", \"#19d3f3\", \"#FF6692\", \"#B6E880\", \"#FF97FF\", \"#FECB52\"], \"font\": {\"color\": \"#2a3f5f\"}, \"geo\": {\"bgcolor\": \"white\", \"lakecolor\": \"white\", \"landcolor\": \"#E5ECF6\", \"showlakes\": true, \"showland\": true, \"subunitcolor\": \"white\"}, \"hoverlabel\": {\"align\": \"left\"}, \"hovermode\": \"closest\", \"mapbox\": {\"style\": \"light\"}, \"paper_bgcolor\": \"white\", \"plot_bgcolor\": \"#E5ECF6\", \"polar\": {\"angularaxis\": {\"gridcolor\": \"white\", \"linecolor\": \"white\", \"ticks\": \"\"}, \"bgcolor\": \"#E5ECF6\", \"radialaxis\": {\"gridcolor\": \"white\", \"linecolor\": \"white\", \"ticks\": \"\"}}, \"scene\": {\"xaxis\": {\"backgroundcolor\": \"#E5ECF6\", \"gridcolor\": \"white\", \"gridwidth\": 2, \"linecolor\": \"white\", \"showbackground\": true, \"ticks\": \"\", \"zerolinecolor\": \"white\"}, \"yaxis\": {\"backgroundcolor\": \"#E5ECF6\", \"gridcolor\": \"white\", \"gridwidth\": 2, \"linecolor\": \"white\", \"showbackground\": true, \"ticks\": \"\", \"zerolinecolor\": \"white\"}, \"zaxis\": {\"backgroundcolor\": \"#E5ECF6\", \"gridcolor\": \"white\", \"gridwidth\": 2, \"linecolor\": \"white\", \"showbackground\": true, \"ticks\": \"\", \"zerolinecolor\": \"white\"}}, \"shapedefaults\": {\"line\": {\"color\": \"#2a3f5f\"}}, \"ternary\": {\"aaxis\": {\"gridcolor\": \"white\", \"linecolor\": \"white\", \"ticks\": \"\"}, \"baxis\": {\"gridcolor\": \"white\", \"linecolor\": \"white\", \"ticks\": \"\"}, \"bgcolor\": \"#E5ECF6\", \"caxis\": {\"gridcolor\": \"white\", \"linecolor\": \"white\", \"ticks\": \"\"}}, \"title\": {\"x\": 0.05}, \"xaxis\": {\"automargin\": true, \"gridcolor\": \"white\", \"linecolor\": \"white\", \"ticks\": \"\", \"title\": {\"standoff\": 15}, \"zerolinecolor\": \"white\", \"zerolinewidth\": 2}, \"yaxis\": {\"automargin\": true, \"gridcolor\": \"white\", \"linecolor\": \"white\", \"ticks\": \"\", \"title\": {\"standoff\": 15}, \"zerolinecolor\": \"white\", \"zerolinewidth\": 2}}}},\n",
       "                        {\"responsive\": true}\n",
       "                    ).then(function(){\n",
       "                            \n",
       "var gd = document.getElementById('37fe433d-ad8c-4753-8969-6368cf0415f8');\n",
       "var x = new MutationObserver(function (mutations, observer) {{\n",
       "        var display = window.getComputedStyle(gd).display;\n",
       "        if (!display || display === 'none') {{\n",
       "            console.log([gd, 'removed!']);\n",
       "            Plotly.purge(gd);\n",
       "            observer.disconnect();\n",
       "        }}\n",
       "}});\n",
       "\n",
       "// Listen for the removal of the full notebook cells\n",
       "var notebookContainer = gd.closest('#notebook-container');\n",
       "if (notebookContainer) {{\n",
       "    x.observe(notebookContainer, {childList: true});\n",
       "}}\n",
       "\n",
       "// Listen for the clearing of the current output cell\n",
       "var outputEl = gd.closest('.output');\n",
       "if (outputEl) {{\n",
       "    x.observe(outputEl, {childList: true});\n",
       "}}\n",
       "\n",
       "                        })\n",
       "                };\n",
       "                });\n",
       "            </script>\n",
       "        </div>"
      ]
     },
     "metadata": {},
     "output_type": "display_data"
    },
    {
     "data": {
      "image/png": "[encoded data removed]",
      "text/plain": [
       "<IPython.core.display.Image object>"
      ]
     },
     "execution_count": 100,
     "metadata": {
      "image/png": {
       "height": 400,
       "width": 400
      }
     },
     "output_type": "execute_result"
    }
   ],
   "source": [
    "import plotly.graph_objs as go\n",
    "\n",
    "colors = ['purplered', 'blue']\n",
    "columns = list(datac_noHubei.iloc[:,1:3])\n",
    "values = datac_noHubei.iloc[:,1:3].values.tolist()[0]\n",
    "\n",
    "fig = go.Figure(data=[go.Pie(labels=columns, \n",
    "                             values=values , hole=.3)]\n",
    "               )\n",
    "\n",
    "fig.update_traces(hoverinfo='label+percent+value', textinfo='label+percent',\n",
    "                  marker=dict(colors=colors, line=dict(color='#000000', width=2))\n",
    "                 )\n",
    "\n",
    "# fig.update_layout(\n",
    "#     title_text=\"Death/Recovered Rate in Mainland China\", height=500, width=700, showlegend=False)\n",
    "print(\"Death/Recovered Rate in Mainland China\")\n",
    "fig.show()"
   ]
  },
  {
   "cell_type": "markdown",
   "metadata": {},
   "source": [
    "### You can see that the death/recover rate is about 1:7."
   ]
  },
  {
   "cell_type": "markdown",
   "metadata": {},
   "source": [
    "## Now analyze the case outside Mainland China."
   ]
  },
  {
   "cell_type": "code",
   "execution_count": 43,
   "metadata": {},
   "outputs": [
    {
     "name": "stdout",
     "output_type": "stream",
     "text": [
      "Raw Data (aggregated outside Mainland China confirmed cases per day):\n",
      "\n",
      "{'1/22/20': 8, '1/23/20': 14, '1/24/20': 25, '1/25/20': 35, '1/26/20': 56, '1/27/20': 64, '1/28/20': 84, '1/29/20': 96, '1/30/20': 110, '1/31/20': 144, '2/1/20': 167, '2/2/20': 180, '2/3/20': 188, '2/4/20': 212, '2/5/20': 227, '2/6/20': 265, '2/7/20': 317, '2/8/20': 343, '2/9/20': 361, '2/10/20': 457, '2/11/20': 476, '2/12/20': 523, '2/13/20': 538, '2/14/20': 595, '2/15/20': 685, '2/16/20': 780, '2/17/20': 896, '2/18/20': 999, '2/19/20': 1095, '2/20/20': 1200}\n"
     ]
    }
   ],
   "source": [
    "data = {}\n",
    "header = []\n",
    "\n",
    "with open('./novel-corona-virus-2019-dataset/time_series_covid_19_confirmed.csv') as csvfile:\n",
    "    plots = csv.reader(csvfile, delimiter=',')\n",
    "    header = next(plots)\n",
    "    for date in header[4:]:\n",
    "        data[date] = 0\n",
    "    #print(data)\n",
    "    for row in plots:\n",
    "        if row[1].strip() != 'Mainland China':\n",
    "            for i in range(4, len(row)):\n",
    "                #print(header[i], int(row[i]))\n",
    "                try:\n",
    "                    data[header[i]] += int(row[i])\n",
    "                except:\n",
    "                    print(\"No data entered at:\", row[0], \", col:\", i)\n",
    "                    \n",
    "print(\"Raw Data (aggregated outside Mainland China confirmed cases per day):\\n\")\n",
    "print(data)"
   ]
  },
  {
   "cell_type": "code",
   "execution_count": 44,
   "metadata": {},
   "outputs": [
    {
     "name": "stdout",
     "output_type": "stream",
     "text": [
      "Start Date (extracted from data):\n",
      "01/22/20\n",
      "\n",
      "Curve Fit Covariance:\n",
      "[[ 5.09330248e+01  2.32902894e-02 -9.17216841e+01]\n",
      " [ 2.32902894e-02  1.07726698e-05 -4.08575243e-02]\n",
      " [-9.17216841e+01 -4.08575243e-02  1.87370946e+02]]\n"
     ]
    },
    {
     "data": {
      "image/png": "[encoded data removed]",
      "text/plain": [
       "<Figure size 720x360 with 1 Axes>"
      ]
     },
     "metadata": {
      "needs_background": "light"
     },
     "output_type": "display_data"
    },
    {
     "name": "stdout",
     "output_type": "stream",
     "text": [
      "Prediction (exponential):\n",
      "02/21/20: 1,328\n",
      "02/22/20: 1,471\n",
      "02/23/20: 1,628\n",
      "02/24/20: 1,801\n",
      "02/25/20: 1,993\n",
      "02/26/20: 2,204\n",
      "02/27/20: 2,437\n",
      "02/28/20: 2,694\n",
      "02/29/20: 2,978\n",
      "03/01/20: 3,290\n",
      "03/02/20: 3,636\n",
      "03/03/20: 4,017\n",
      "03/04/20: 4,437\n",
      "03/05/20: 4,901\n",
      "03/06/20: 5,413\n",
      "03/07/20: 5,977\n",
      "03/08/20: 6,600\n",
      "03/09/20: 7,288\n",
      "03/10/20: 8,046\n",
      "03/11/20: 8,883\n",
      "03/12/20: 9,806\n",
      "03/13/20: 10,825\n",
      "03/14/20: 11,949\n",
      "03/15/20: 13,189\n",
      "03/16/20: 14,558\n",
      "03/17/20: 16,067\n",
      "03/18/20: 17,733\n",
      "03/19/20: 19,571\n",
      "03/20/20: 21,599\n",
      "03/21/20: 23,837\n"
     ]
    }
   ],
   "source": [
    "# Extract start date from data in case this for some reason changes.\n",
    "sd_str = next(iter(data.keys()))\n",
    "sd_tkn = sd_str.split('/')\n",
    "startdate = datetime.date(2000 + int(sd_tkn[2]), int(sd_tkn[0]), int(sd_tkn[1]))\n",
    "print(\"Start Date (extracted from data):\")\n",
    "print(startdate.strftime('%m/%d/%y'))\n",
    "print()\n",
    "                    \n",
    "def exp(x, a, b, c):\n",
    "    return a * np.exp(-b * x) + c\n",
    "\n",
    "def sigmoid(x, L ,x0, k, b):\n",
    "    y = L / (1 + np.exp(-k*(x-x0)))+b\n",
    "    return (y)\n",
    "\n",
    "x=[*data.keys()]\n",
    "x_enum=[*range(0, len(x))]\n",
    "y=[*data.values()]\n",
    "\n",
    "# Exponential curve fit.\n",
    "popt, pcov = curve_fit(exp, x_enum, y, p0 = (1, 1e-6, 1))\n",
    "\n",
    "# Sigmoidal curve fit.\n",
    "# p0_sigmoid = [max(y), np.median(x_enum),1,min(y)] # this is an mandatory initial guess\n",
    "# popt, pcov = curve_fit(sigmoid, x_enum, y, p0=p0_sigmoid)\n",
    "\n",
    "#print(popt)\n",
    "print(\"Curve Fit Covariance:\")\n",
    "print(pcov)\n",
    "\n",
    "plt.figure(figsize=(10, 5))\n",
    "plt.xticks(rotation=90)\n",
    "plt.plot(x, y, 'o', label='data')\n",
    "\n",
    "# Plot exponential fit.\n",
    "plt.plot(x, [exp(xp, *popt) for xp in x_enum], 'r-',\n",
    "        label='fit: a=%5.3f, b=%5.3f, c=%5.3f' % tuple(popt))\n",
    "\n",
    "# Plot sigmoidal fit.\n",
    "# plt.plot(x, [sigmoid(xp, *popt) for xp in x_enum], 'r-',\n",
    "#         label='fit: a=%5.3f, b=%5.3f, c=%5.3f' % tuple(popt))\n",
    "\n",
    "plt.title(\"Not in Mainland China confirmed cases per day\")\n",
    "plt.legend()\n",
    "plt.ylabel(\"Not in Mainland China Confirmed Cases\")\n",
    "plt.show()\n",
    "\n",
    "print(\"Prediction (exponential):\")\n",
    "for day_index in range(len(x), len(x)+30):\n",
    "    day = (startdate + datetime.timedelta(days=day_index)).strftime('%m/%d/%y')\n",
    "    count = exp(day_index, *popt)\n",
    "    print(f\"{day}: {int(count):,d}\")"
   ]
  },
  {
   "cell_type": "code",
   "execution_count": null,
   "metadata": {},
   "outputs": [],
   "source": []
  }
 ],
 "metadata": {
  "kernelspec": {
   "display_name": "Python 3",
   "language": "python",
   "name": "python3"
  },
  "language_info": {
   "codemirror_mode": {
    "name": "ipython",
    "version": 3
   },
   "file_extension": ".py",
   "mimetype": "text/x-python",
   "name": "python",
   "nbconvert_exporter": "python",
   "pygments_lexer": "ipython3",
   "version": "3.7.4"
  }
 },
 "nbformat": 4,
 "nbformat_minor": 2
}
